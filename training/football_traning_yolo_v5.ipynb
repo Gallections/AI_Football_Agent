{
 "cells": [
  {
   "cell_type": "code",
   "execution_count": 1,
   "metadata": {},
   "outputs": [
    {
     "name": "stdout",
     "output_type": "stream",
     "text": [
      "Requirement already satisfied: ultralytics in c:\\ai_soccer\\myenv\\lib\\site-packages (8.3.29)\n",
      "Requirement already satisfied: numpy>=1.23.0 in c:\\ai_soccer\\myenv\\lib\\site-packages (from ultralytics) (2.1.3)\n",
      "Requirement already satisfied: matplotlib>=3.3.0 in c:\\ai_soccer\\myenv\\lib\\site-packages (from ultralytics) (3.9.2)\n",
      "Requirement already satisfied: opencv-python>=4.6.0 in c:\\ai_soccer\\myenv\\lib\\site-packages (from ultralytics) (4.10.0.84)\n",
      "Requirement already satisfied: pillow>=7.1.2 in c:\\ai_soccer\\myenv\\lib\\site-packages (from ultralytics) (11.0.0)\n",
      "Requirement already satisfied: pyyaml>=5.3.1 in c:\\ai_soccer\\myenv\\lib\\site-packages (from ultralytics) (6.0.2)\n",
      "Requirement already satisfied: requests>=2.23.0 in c:\\ai_soccer\\myenv\\lib\\site-packages (from ultralytics) (2.32.3)\n",
      "Requirement already satisfied: scipy>=1.4.1 in c:\\ai_soccer\\myenv\\lib\\site-packages (from ultralytics) (1.14.1)\n",
      "Requirement already satisfied: torch>=1.8.0 in c:\\ai_soccer\\myenv\\lib\\site-packages (from ultralytics) (2.5.1)\n",
      "Requirement already satisfied: torchvision>=0.9.0 in c:\\ai_soccer\\myenv\\lib\\site-packages (from ultralytics) (0.20.1)\n",
      "Requirement already satisfied: tqdm>=4.64.0 in c:\\ai_soccer\\myenv\\lib\\site-packages (from ultralytics) (4.67.0)\n",
      "Requirement already satisfied: psutil in c:\\ai_soccer\\myenv\\lib\\site-packages (from ultralytics) (6.1.0)\n",
      "Requirement already satisfied: py-cpuinfo in c:\\ai_soccer\\myenv\\lib\\site-packages (from ultralytics) (9.0.0)\n",
      "Requirement already satisfied: pandas>=1.1.4 in c:\\ai_soccer\\myenv\\lib\\site-packages (from ultralytics) (2.2.3)\n",
      "Requirement already satisfied: seaborn>=0.11.0 in c:\\ai_soccer\\myenv\\lib\\site-packages (from ultralytics) (0.13.2)\n",
      "Requirement already satisfied: ultralytics-thop>=2.0.0 in c:\\ai_soccer\\myenv\\lib\\site-packages (from ultralytics) (2.0.11)\n",
      "Requirement already satisfied: contourpy>=1.0.1 in c:\\ai_soccer\\myenv\\lib\\site-packages (from matplotlib>=3.3.0->ultralytics) (1.3.0)\n",
      "Requirement already satisfied: cycler>=0.10 in c:\\ai_soccer\\myenv\\lib\\site-packages (from matplotlib>=3.3.0->ultralytics) (0.12.1)\n",
      "Requirement already satisfied: fonttools>=4.22.0 in c:\\ai_soccer\\myenv\\lib\\site-packages (from matplotlib>=3.3.0->ultralytics) (4.54.1)\n",
      "Requirement already satisfied: kiwisolver>=1.3.1 in c:\\ai_soccer\\myenv\\lib\\site-packages (from matplotlib>=3.3.0->ultralytics) (1.4.7)\n",
      "Requirement already satisfied: packaging>=20.0 in c:\\ai_soccer\\myenv\\lib\\site-packages (from matplotlib>=3.3.0->ultralytics) (24.2)\n",
      "Requirement already satisfied: pyparsing>=2.3.1 in c:\\ai_soccer\\myenv\\lib\\site-packages (from matplotlib>=3.3.0->ultralytics) (3.2.0)\n",
      "Requirement already satisfied: python-dateutil>=2.7 in c:\\ai_soccer\\myenv\\lib\\site-packages (from matplotlib>=3.3.0->ultralytics) (2.9.0.post0)\n",
      "Requirement already satisfied: pytz>=2020.1 in c:\\ai_soccer\\myenv\\lib\\site-packages (from pandas>=1.1.4->ultralytics) (2024.2)\n",
      "Requirement already satisfied: tzdata>=2022.7 in c:\\ai_soccer\\myenv\\lib\\site-packages (from pandas>=1.1.4->ultralytics) (2024.2)\n",
      "Requirement already satisfied: charset-normalizer<4,>=2 in c:\\ai_soccer\\myenv\\lib\\site-packages (from requests>=2.23.0->ultralytics) (3.4.0)\n",
      "Requirement already satisfied: idna<4,>=2.5 in c:\\ai_soccer\\myenv\\lib\\site-packages (from requests>=2.23.0->ultralytics) (3.10)\n",
      "Requirement already satisfied: urllib3<3,>=1.21.1 in c:\\ai_soccer\\myenv\\lib\\site-packages (from requests>=2.23.0->ultralytics) (2.2.3)\n",
      "Requirement already satisfied: certifi>=2017.4.17 in c:\\ai_soccer\\myenv\\lib\\site-packages (from requests>=2.23.0->ultralytics) (2024.8.30)\n",
      "Requirement already satisfied: filelock in c:\\ai_soccer\\myenv\\lib\\site-packages (from torch>=1.8.0->ultralytics) (3.16.1)\n",
      "Requirement already satisfied: typing-extensions>=4.8.0 in c:\\ai_soccer\\myenv\\lib\\site-packages (from torch>=1.8.0->ultralytics) (4.12.2)\n",
      "Requirement already satisfied: networkx in c:\\ai_soccer\\myenv\\lib\\site-packages (from torch>=1.8.0->ultralytics) (3.4.2)\n",
      "Requirement already satisfied: jinja2 in c:\\ai_soccer\\myenv\\lib\\site-packages (from torch>=1.8.0->ultralytics) (3.1.4)\n",
      "Requirement already satisfied: fsspec in c:\\ai_soccer\\myenv\\lib\\site-packages (from torch>=1.8.0->ultralytics) (2024.10.0)\n",
      "Requirement already satisfied: sympy==1.13.1 in c:\\ai_soccer\\myenv\\lib\\site-packages (from torch>=1.8.0->ultralytics) (1.13.1)\n",
      "Requirement already satisfied: mpmath<1.4,>=1.1.0 in c:\\ai_soccer\\myenv\\lib\\site-packages (from sympy==1.13.1->torch>=1.8.0->ultralytics) (1.3.0)\n",
      "Requirement already satisfied: colorama in c:\\ai_soccer\\myenv\\lib\\site-packages (from tqdm>=4.64.0->ultralytics) (0.4.6)\n",
      "Requirement already satisfied: six>=1.5 in c:\\ai_soccer\\myenv\\lib\\site-packages (from python-dateutil>=2.7->matplotlib>=3.3.0->ultralytics) (1.16.0)\n",
      "Requirement already satisfied: MarkupSafe>=2.0 in c:\\ai_soccer\\myenv\\lib\\site-packages (from jinja2->torch>=1.8.0->ultralytics) (3.0.2)\n"
     ]
    },
    {
     "name": "stderr",
     "output_type": "stream",
     "text": [
      "\n",
      "[notice] A new release of pip is available: 23.2.1 -> 24.3.1\n",
      "[notice] To update, run: python.exe -m pip install --upgrade pip\n"
     ]
    },
    {
     "name": "stdout",
     "output_type": "stream",
     "text": [
      "Collecting roboflow"
     ]
    },
    {
     "name": "stderr",
     "output_type": "stream",
     "text": [
      "\n",
      "[notice] A new release of pip is available: 23.2.1 -> 24.3.1\n",
      "[notice] To update, run: python.exe -m pip install --upgrade pip\n"
     ]
    },
    {
     "name": "stdout",
     "output_type": "stream",
     "text": [
      "\n",
      "  Obtaining dependency information for roboflow from https://files.pythonhosted.org/packages/12/b5/ea8afa632f71be4e82ffb9d4a051b6ac26a5205923b4c4b09131c2805373/roboflow-1.1.49-py3-none-any.whl.metadata\n",
      "  Downloading roboflow-1.1.49-py3-none-any.whl.metadata (9.7 kB)\n",
      "Requirement already satisfied: certifi in c:\\ai_soccer\\myenv\\lib\\site-packages (from roboflow) (2024.8.30)\n",
      "Collecting idna==3.7 (from roboflow)\n",
      "  Obtaining dependency information for idna==3.7 from https://files.pythonhosted.org/packages/e5/3e/741d8c82801c347547f8a2a06aa57dbb1992be9e948df2ea0eda2c8b79e8/idna-3.7-py3-none-any.whl.metadata\n",
      "  Downloading idna-3.7-py3-none-any.whl.metadata (9.9 kB)\n",
      "Requirement already satisfied: cycler in c:\\ai_soccer\\myenv\\lib\\site-packages (from roboflow) (0.12.1)\n",
      "Requirement already satisfied: kiwisolver>=1.3.1 in c:\\ai_soccer\\myenv\\lib\\site-packages (from roboflow) (1.4.7)\n",
      "Requirement already satisfied: matplotlib in c:\\ai_soccer\\myenv\\lib\\site-packages (from roboflow) (3.9.2)\n",
      "Requirement already satisfied: numpy>=1.18.5 in c:\\ai_soccer\\myenv\\lib\\site-packages (from roboflow) (2.1.3)\n",
      "Collecting opencv-python-headless==4.10.0.84 (from roboflow)\n",
      "  Obtaining dependency information for opencv-python-headless==4.10.0.84 from https://files.pythonhosted.org/packages/26/d0/22f68eb23eea053a31655960f133c0be9726c6a881547e6e9e7e2a946c4f/opencv_python_headless-4.10.0.84-cp37-abi3-win_amd64.whl.metadata\n",
      "  Downloading opencv_python_headless-4.10.0.84-cp37-abi3-win_amd64.whl.metadata (20 kB)\n",
      "Requirement already satisfied: Pillow>=7.1.2 in c:\\ai_soccer\\myenv\\lib\\site-packages (from roboflow) (11.0.0)\n",
      "Requirement already satisfied: python-dateutil in c:\\ai_soccer\\myenv\\lib\\site-packages (from roboflow) (2.9.0.post0)\n",
      "Collecting python-dotenv (from roboflow)\n",
      "  Obtaining dependency information for python-dotenv from https://files.pythonhosted.org/packages/6a/3e/b68c118422ec867fa7ab88444e1274aa40681c606d59ac27de5a5588f082/python_dotenv-1.0.1-py3-none-any.whl.metadata\n",
      "  Downloading python_dotenv-1.0.1-py3-none-any.whl.metadata (23 kB)\n",
      "Requirement already satisfied: requests in c:\\ai_soccer\\myenv\\lib\\site-packages (from roboflow) (2.32.3)\n",
      "Requirement already satisfied: six in c:\\ai_soccer\\myenv\\lib\\site-packages (from roboflow) (1.16.0)\n",
      "Requirement already satisfied: urllib3>=1.26.6 in c:\\ai_soccer\\myenv\\lib\\site-packages (from roboflow) (2.2.3)\n",
      "Requirement already satisfied: tqdm>=4.41.0 in c:\\ai_soccer\\myenv\\lib\\site-packages (from roboflow) (4.67.0)\n",
      "Requirement already satisfied: PyYAML>=5.3.1 in c:\\ai_soccer\\myenv\\lib\\site-packages (from roboflow) (6.0.2)\n",
      "Collecting requests-toolbelt (from roboflow)\n",
      "  Obtaining dependency information for requests-toolbelt from https://files.pythonhosted.org/packages/3f/51/d4db610ef29373b879047326cbf6fa98b6c1969d6f6dc423279de2b1be2c/requests_toolbelt-1.0.0-py2.py3-none-any.whl.metadata\n",
      "  Downloading requests_toolbelt-1.0.0-py2.py3-none-any.whl.metadata (14 kB)\n",
      "Collecting filetype (from roboflow)\n",
      "  Obtaining dependency information for filetype from https://files.pythonhosted.org/packages/18/79/1b8fa1bb3568781e84c9200f951c735f3f157429f44be0495da55894d620/filetype-1.2.0-py2.py3-none-any.whl.metadata\n",
      "  Downloading filetype-1.2.0-py2.py3-none-any.whl.metadata (6.5 kB)\n",
      "Requirement already satisfied: colorama in c:\\ai_soccer\\myenv\\lib\\site-packages (from tqdm>=4.41.0->roboflow) (0.4.6)\n",
      "Requirement already satisfied: contourpy>=1.0.1 in c:\\ai_soccer\\myenv\\lib\\site-packages (from matplotlib->roboflow) (1.3.0)\n",
      "Requirement already satisfied: fonttools>=4.22.0 in c:\\ai_soccer\\myenv\\lib\\site-packages (from matplotlib->roboflow) (4.54.1)\n",
      "Requirement already satisfied: packaging>=20.0 in c:\\ai_soccer\\myenv\\lib\\site-packages (from matplotlib->roboflow) (24.2)\n",
      "Requirement already satisfied: pyparsing>=2.3.1 in c:\\ai_soccer\\myenv\\lib\\site-packages (from matplotlib->roboflow) (3.2.0)\n",
      "Requirement already satisfied: charset-normalizer<4,>=2 in c:\\ai_soccer\\myenv\\lib\\site-packages (from requests->roboflow) (3.4.0)\n",
      "Downloading roboflow-1.1.49-py3-none-any.whl (80 kB)\n",
      "   ---------------------------------------- 0.0/80.9 kB ? eta -:--:--\n",
      "   ---------------------------------------- 80.9/80.9 kB 2.3 MB/s eta 0:00:00\n",
      "Downloading idna-3.7-py3-none-any.whl (66 kB)\n",
      "   ---------------------------------------- 0.0/66.8 kB ? eta -:--:--\n",
      "   ---------------------------------------- 66.8/66.8 kB ? eta 0:00:00\n",
      "Downloading opencv_python_headless-4.10.0.84-cp37-abi3-win_amd64.whl (38.8 MB)\n",
      "   ---------------------------------------- 0.0/38.8 MB ? eta -:--:--\n",
      "   ---------------------------------------- 0.3/38.8 MB 5.9 MB/s eta 0:00:07\n",
      "    --------------------------------------- 0.5/38.8 MB 5.6 MB/s eta 0:00:07\n",
      "    --------------------------------------- 0.8/38.8 MB 6.0 MB/s eta 0:00:07\n",
      "   - -------------------------------------- 1.1/38.8 MB 5.6 MB/s eta 0:00:07\n",
      "   - -------------------------------------- 1.2/38.8 MB 5.2 MB/s eta 0:00:08\n",
      "   - -------------------------------------- 1.3/38.8 MB 4.7 MB/s eta 0:00:08\n",
      "   - -------------------------------------- 1.5/38.8 MB 4.4 MB/s eta 0:00:09\n",
      "   - -------------------------------------- 1.5/38.8 MB 4.1 MB/s eta 0:00:10\n",
      "   - -------------------------------------- 1.7/38.8 MB 4.3 MB/s eta 0:00:09\n",
      "   - -------------------------------------- 1.8/38.8 MB 4.0 MB/s eta 0:00:10\n",
      "   -- ------------------------------------- 2.0/38.8 MB 3.9 MB/s eta 0:00:10\n",
      "   -- ------------------------------------- 2.1/38.8 MB 3.8 MB/s eta 0:00:10\n",
      "   -- ------------------------------------- 2.3/38.8 MB 3.9 MB/s eta 0:00:10\n",
      "   -- ------------------------------------- 2.5/38.8 MB 3.9 MB/s eta 0:00:10\n",
      "   -- ------------------------------------- 2.6/38.8 MB 3.8 MB/s eta 0:00:10\n",
      "   -- ------------------------------------- 2.7/38.8 MB 3.7 MB/s eta 0:00:10\n",
      "   -- ------------------------------------- 2.8/38.8 MB 3.5 MB/s eta 0:00:11\n",
      "   --- ------------------------------------ 3.0/38.8 MB 3.6 MB/s eta 0:00:11\n",
      "   --- ------------------------------------ 3.1/38.8 MB 3.5 MB/s eta 0:00:11\n",
      "   --- ------------------------------------ 3.2/38.8 MB 3.4 MB/s eta 0:00:11\n",
      "   --- ------------------------------------ 3.3/38.8 MB 3.4 MB/s eta 0:00:11\n",
      "   --- ------------------------------------ 3.5/38.8 MB 3.5 MB/s eta 0:00:11\n",
      "   --- ------------------------------------ 3.7/38.8 MB 3.5 MB/s eta 0:00:11\n",
      "   ---- ----------------------------------- 4.0/38.8 MB 3.6 MB/s eta 0:00:10\n",
      "   ---- ----------------------------------- 4.3/38.8 MB 3.7 MB/s eta 0:00:10\n",
      "   ---- ----------------------------------- 4.4/38.8 MB 3.7 MB/s eta 0:00:10\n",
      "   ---- ----------------------------------- 4.8/38.8 MB 3.8 MB/s eta 0:00:09\n",
      "   ----- ---------------------------------- 5.0/38.8 MB 3.8 MB/s eta 0:00:09\n",
      "   ----- ---------------------------------- 5.2/38.8 MB 3.9 MB/s eta 0:00:09\n",
      "   ----- ---------------------------------- 5.4/38.8 MB 3.8 MB/s eta 0:00:09\n",
      "   ----- ---------------------------------- 5.6/38.8 MB 3.9 MB/s eta 0:00:09\n",
      "   ------ --------------------------------- 5.9/38.8 MB 4.0 MB/s eta 0:00:09\n",
      "   ------ --------------------------------- 6.2/38.8 MB 4.0 MB/s eta 0:00:09\n",
      "   ------ --------------------------------- 6.4/38.8 MB 4.1 MB/s eta 0:00:08\n",
      "   ------ --------------------------------- 6.6/38.8 MB 4.1 MB/s eta 0:00:08\n",
      "   ------- -------------------------------- 6.9/38.8 MB 4.1 MB/s eta 0:00:08\n",
      "   ------- -------------------------------- 7.1/38.8 MB 4.2 MB/s eta 0:00:08\n",
      "   ------- -------------------------------- 7.4/38.8 MB 4.2 MB/s eta 0:00:08\n",
      "   ------- -------------------------------- 7.6/38.8 MB 4.2 MB/s eta 0:00:08\n",
      "   -------- ------------------------------- 7.9/38.8 MB 4.3 MB/s eta 0:00:08\n",
      "   -------- ------------------------------- 8.1/38.8 MB 4.3 MB/s eta 0:00:08\n",
      "   -------- ------------------------------- 8.3/38.8 MB 4.3 MB/s eta 0:00:08\n",
      "   -------- ------------------------------- 8.6/38.8 MB 4.3 MB/s eta 0:00:08\n",
      "   --------- ------------------------------ 8.9/38.8 MB 4.4 MB/s eta 0:00:07\n",
      "   --------- ------------------------------ 9.1/38.8 MB 4.4 MB/s eta 0:00:07\n",
      "   --------- ------------------------------ 9.4/38.8 MB 4.4 MB/s eta 0:00:07\n",
      "   --------- ------------------------------ 9.5/38.8 MB 4.5 MB/s eta 0:00:07\n",
      "   ---------- ----------------------------- 9.8/38.8 MB 4.4 MB/s eta 0:00:07\n",
      "   ---------- ----------------------------- 10.0/38.8 MB 4.4 MB/s eta 0:00:07\n",
      "   ---------- ----------------------------- 10.2/38.8 MB 4.4 MB/s eta 0:00:07\n",
      "   ---------- ----------------------------- 10.5/38.8 MB 4.5 MB/s eta 0:00:07\n",
      "   ----------- ---------------------------- 10.8/38.8 MB 4.5 MB/s eta 0:00:07\n",
      "   ----------- ---------------------------- 10.9/38.8 MB 4.4 MB/s eta 0:00:07\n",
      "   ----------- ---------------------------- 11.2/38.8 MB 4.5 MB/s eta 0:00:07\n",
      "   ----------- ---------------------------- 11.3/38.8 MB 4.4 MB/s eta 0:00:07\n",
      "   ----------- ---------------------------- 11.5/38.8 MB 4.5 MB/s eta 0:00:07\n",
      "   ------------ --------------------------- 11.8/38.8 MB 4.5 MB/s eta 0:00:06\n",
      "   ------------ --------------------------- 12.1/38.8 MB 4.6 MB/s eta 0:00:06\n",
      "   ------------ --------------------------- 12.2/38.8 MB 4.6 MB/s eta 0:00:06\n",
      "   ------------ --------------------------- 12.4/38.8 MB 4.6 MB/s eta 0:00:06\n",
      "   ------------ --------------------------- 12.5/38.8 MB 4.6 MB/s eta 0:00:06\n",
      "   ------------- -------------------------- 12.7/38.8 MB 4.5 MB/s eta 0:00:06\n",
      "   ------------- -------------------------- 12.8/38.8 MB 4.6 MB/s eta 0:00:06\n",
      "   ------------- -------------------------- 12.8/38.8 MB 4.6 MB/s eta 0:00:06\n",
      "   ------------- -------------------------- 12.8/38.8 MB 4.6 MB/s eta 0:00:06\n",
      "   ------------- -------------------------- 12.8/38.8 MB 4.6 MB/s eta 0:00:06\n",
      "   ------------- -------------------------- 13.0/38.8 MB 4.5 MB/s eta 0:00:06\n",
      "   ------------- -------------------------- 13.3/38.8 MB 4.5 MB/s eta 0:00:06\n",
      "   -------------- ------------------------- 13.6/38.8 MB 4.6 MB/s eta 0:00:06\n",
      "   -------------- ------------------------- 13.9/38.8 MB 4.6 MB/s eta 0:00:06\n",
      "   -------------- ------------------------- 14.0/38.8 MB 4.6 MB/s eta 0:00:06\n",
      "   -------------- ------------------------- 14.4/38.8 MB 4.6 MB/s eta 0:00:06\n",
      "   -------------- ------------------------- 14.5/38.8 MB 4.6 MB/s eta 0:00:06\n",
      "   --------------- ------------------------ 14.7/38.8 MB 4.6 MB/s eta 0:00:06\n",
      "   --------------- ------------------------ 14.9/38.8 MB 4.5 MB/s eta 0:00:06\n",
      "   --------------- ------------------------ 15.1/38.8 MB 4.5 MB/s eta 0:00:06\n",
      "   --------------- ------------------------ 15.4/38.8 MB 4.5 MB/s eta 0:00:06\n",
      "   ---------------- ----------------------- 15.6/38.8 MB 4.6 MB/s eta 0:00:06\n",
      "   ---------------- ----------------------- 15.8/38.8 MB 4.5 MB/s eta 0:00:06\n",
      "   ---------------- ----------------------- 16.1/38.8 MB 4.6 MB/s eta 0:00:05\n",
      "   ---------------- ----------------------- 16.3/38.8 MB 4.5 MB/s eta 0:00:05\n",
      "   ---------------- ----------------------- 16.5/38.8 MB 4.5 MB/s eta 0:00:05\n",
      "   ----------------- ---------------------- 16.7/38.8 MB 4.5 MB/s eta 0:00:05\n",
      "   ----------------- ---------------------- 17.0/38.8 MB 4.5 MB/s eta 0:00:05\n",
      "   ----------------- ---------------------- 17.2/38.8 MB 4.5 MB/s eta 0:00:05\n",
      "   ----------------- ---------------------- 17.4/38.8 MB 4.5 MB/s eta 0:00:05\n",
      "   ------------------ --------------------- 17.7/38.8 MB 4.5 MB/s eta 0:00:05\n",
      "   ------------------ --------------------- 17.9/38.8 MB 4.5 MB/s eta 0:00:05\n",
      "   ------------------ --------------------- 18.2/38.8 MB 4.5 MB/s eta 0:00:05\n",
      "   ------------------- -------------------- 18.5/38.8 MB 4.5 MB/s eta 0:00:05\n",
      "   ------------------- -------------------- 18.7/38.8 MB 4.5 MB/s eta 0:00:05\n",
      "   ------------------- -------------------- 18.9/38.8 MB 4.5 MB/s eta 0:00:05\n",
      "   ------------------- -------------------- 19.1/38.8 MB 4.5 MB/s eta 0:00:05\n",
      "   -------------------- ------------------- 19.4/38.8 MB 4.5 MB/s eta 0:00:05\n",
      "   -------------------- ------------------- 19.6/38.8 MB 4.5 MB/s eta 0:00:05\n",
      "   -------------------- ------------------- 19.9/38.8 MB 4.5 MB/s eta 0:00:05\n",
      "   -------------------- ------------------- 20.2/38.8 MB 4.5 MB/s eta 0:00:05\n",
      "   --------------------- ------------------ 20.4/38.8 MB 4.5 MB/s eta 0:00:05\n",
      "   --------------------- ------------------ 20.7/38.8 MB 4.5 MB/s eta 0:00:05\n",
      "   --------------------- ------------------ 20.8/38.8 MB 4.5 MB/s eta 0:00:04\n",
      "   --------------------- ------------------ 21.1/38.8 MB 4.5 MB/s eta 0:00:04\n",
      "   ---------------------- ----------------- 21.3/38.8 MB 4.5 MB/s eta 0:00:04\n",
      "   ---------------------- ----------------- 21.4/38.8 MB 4.5 MB/s eta 0:00:04\n",
      "   ---------------------- ----------------- 21.7/38.8 MB 4.5 MB/s eta 0:00:04\n",
      "   ---------------------- ----------------- 21.9/38.8 MB 4.5 MB/s eta 0:00:04\n",
      "   ---------------------- ----------------- 22.1/38.8 MB 4.5 MB/s eta 0:00:04\n",
      "   ----------------------- ---------------- 22.3/38.8 MB 4.5 MB/s eta 0:00:04\n",
      "   ----------------------- ---------------- 22.6/38.8 MB 4.5 MB/s eta 0:00:04\n",
      "   ----------------------- ---------------- 22.8/38.8 MB 4.6 MB/s eta 0:00:04\n",
      "   ----------------------- ---------------- 23.1/38.8 MB 5.0 MB/s eta 0:00:04\n",
      "   ----------------------- ---------------- 23.2/38.8 MB 4.9 MB/s eta 0:00:04\n",
      "   ------------------------ --------------- 23.5/38.8 MB 4.9 MB/s eta 0:00:04\n",
      "   ------------------------ --------------- 23.7/38.8 MB 5.0 MB/s eta 0:00:04\n",
      "   ------------------------ --------------- 23.9/38.8 MB 4.9 MB/s eta 0:00:04\n",
      "   ------------------------ --------------- 24.2/38.8 MB 5.0 MB/s eta 0:00:03\n",
      "   ------------------------- -------------- 24.2/38.8 MB 5.0 MB/s eta 0:00:03\n",
      "   ------------------------- -------------- 24.5/38.8 MB 4.9 MB/s eta 0:00:03\n",
      "   ------------------------- -------------- 24.6/38.8 MB 4.8 MB/s eta 0:00:03\n",
      "   ------------------------- -------------- 24.7/38.8 MB 4.7 MB/s eta 0:00:03\n",
      "   ------------------------- -------------- 25.0/38.8 MB 4.8 MB/s eta 0:00:03\n",
      "   ------------------------- -------------- 25.2/38.8 MB 4.8 MB/s eta 0:00:03\n",
      "   -------------------------- ------------- 25.4/38.8 MB 4.8 MB/s eta 0:00:03\n",
      "   -------------------------- ------------- 25.6/38.8 MB 4.8 MB/s eta 0:00:03\n",
      "   -------------------------- ------------- 25.9/38.8 MB 4.8 MB/s eta 0:00:03\n",
      "   -------------------------- ------------- 26.1/38.8 MB 4.8 MB/s eta 0:00:03\n",
      "   --------------------------- ------------ 26.2/38.8 MB 4.8 MB/s eta 0:00:03\n",
      "   --------------------------- ------------ 26.4/38.8 MB 4.7 MB/s eta 0:00:03\n",
      "   --------------------------- ------------ 26.6/38.8 MB 4.7 MB/s eta 0:00:03\n",
      "   --------------------------- ------------ 26.8/38.8 MB 4.8 MB/s eta 0:00:03\n",
      "   --------------------------- ------------ 27.1/38.8 MB 4.8 MB/s eta 0:00:03\n",
      "   ---------------------------- ----------- 27.3/38.8 MB 4.8 MB/s eta 0:00:03\n",
      "   ---------------------------- ----------- 27.6/38.8 MB 4.8 MB/s eta 0:00:03\n",
      "   ---------------------------- ----------- 27.8/38.8 MB 4.8 MB/s eta 0:00:03\n",
      "   ----------------------------- ---------- 28.1/38.8 MB 4.8 MB/s eta 0:00:03\n",
      "   ----------------------------- ---------- 28.3/38.8 MB 4.7 MB/s eta 0:00:03\n",
      "   ----------------------------- ---------- 28.6/38.8 MB 4.7 MB/s eta 0:00:03\n",
      "   ----------------------------- ---------- 28.7/38.8 MB 4.7 MB/s eta 0:00:03\n",
      "   ----------------------------- ---------- 28.9/38.8 MB 4.7 MB/s eta 0:00:03\n",
      "   ------------------------------ --------- 29.2/38.8 MB 4.7 MB/s eta 0:00:03\n",
      "   ------------------------------ --------- 29.4/38.8 MB 4.7 MB/s eta 0:00:02\n",
      "   ------------------------------ --------- 29.6/38.8 MB 4.7 MB/s eta 0:00:02\n",
      "   ------------------------------ --------- 29.8/38.8 MB 4.7 MB/s eta 0:00:02\n",
      "   ------------------------------- -------- 30.1/38.8 MB 4.7 MB/s eta 0:00:02\n",
      "   ------------------------------- -------- 30.1/38.8 MB 4.6 MB/s eta 0:00:02\n",
      "   ------------------------------- -------- 30.2/38.8 MB 4.6 MB/s eta 0:00:02\n",
      "   ------------------------------- -------- 30.5/38.8 MB 4.5 MB/s eta 0:00:02\n",
      "   ------------------------------- -------- 30.8/38.8 MB 4.6 MB/s eta 0:00:02\n",
      "   ------------------------------- -------- 31.0/38.8 MB 4.5 MB/s eta 0:00:02\n",
      "   -------------------------------- ------- 31.2/38.8 MB 4.6 MB/s eta 0:00:02\n",
      "   -------------------------------- ------- 31.4/38.8 MB 4.5 MB/s eta 0:00:02\n",
      "   -------------------------------- ------- 31.7/38.8 MB 4.6 MB/s eta 0:00:02\n",
      "   -------------------------------- ------- 31.9/38.8 MB 4.5 MB/s eta 0:00:02\n",
      "   --------------------------------- ------ 32.0/38.8 MB 4.6 MB/s eta 0:00:02\n",
      "   --------------------------------- ------ 32.3/38.8 MB 4.5 MB/s eta 0:00:02\n",
      "   --------------------------------- ------ 32.5/38.8 MB 4.6 MB/s eta 0:00:02\n",
      "   --------------------------------- ------ 32.6/38.8 MB 4.5 MB/s eta 0:00:02\n",
      "   --------------------------------- ------ 32.7/38.8 MB 4.5 MB/s eta 0:00:02\n",
      "   --------------------------------- ------ 32.8/38.8 MB 4.4 MB/s eta 0:00:02\n",
      "   ---------------------------------- ----- 33.0/38.8 MB 4.4 MB/s eta 0:00:02\n",
      "   ---------------------------------- ----- 33.2/38.8 MB 4.4 MB/s eta 0:00:02\n",
      "   ---------------------------------- ----- 33.2/38.8 MB 4.4 MB/s eta 0:00:02\n",
      "   ---------------------------------- ----- 33.4/38.8 MB 4.3 MB/s eta 0:00:02\n",
      "   ---------------------------------- ----- 33.7/38.8 MB 4.3 MB/s eta 0:00:02\n",
      "   ---------------------------------- ----- 33.9/38.8 MB 4.3 MB/s eta 0:00:02\n",
      "   ----------------------------------- ---- 34.1/38.8 MB 4.4 MB/s eta 0:00:02\n",
      "   ----------------------------------- ---- 34.4/38.8 MB 4.3 MB/s eta 0:00:02\n",
      "   ----------------------------------- ---- 34.5/38.8 MB 4.4 MB/s eta 0:00:01\n",
      "   ----------------------------------- ---- 34.7/38.8 MB 4.3 MB/s eta 0:00:01\n",
      "   ----------------------------------- ---- 34.9/38.8 MB 4.4 MB/s eta 0:00:01\n",
      "   ------------------------------------ --- 35.0/38.8 MB 4.4 MB/s eta 0:00:01\n",
      "   ------------------------------------ --- 35.0/38.8 MB 4.4 MB/s eta 0:00:01\n",
      "   ------------------------------------ --- 35.0/38.8 MB 4.4 MB/s eta 0:00:01\n",
      "   ------------------------------------ --- 35.0/38.8 MB 4.4 MB/s eta 0:00:01\n",
      "   ------------------------------------ --- 35.2/38.8 MB 4.1 MB/s eta 0:00:01\n",
      "   ------------------------------------ --- 35.3/38.8 MB 4.1 MB/s eta 0:00:01\n",
      "   ------------------------------------ --- 35.6/38.8 MB 4.1 MB/s eta 0:00:01\n",
      "   ------------------------------------ --- 35.7/38.8 MB 4.0 MB/s eta 0:00:01\n",
      "   ------------------------------------- -- 36.0/38.8 MB 4.0 MB/s eta 0:00:01\n",
      "   ------------------------------------- -- 36.1/38.8 MB 4.1 MB/s eta 0:00:01\n",
      "   ------------------------------------- -- 36.4/38.8 MB 4.0 MB/s eta 0:00:01\n",
      "   ------------------------------------- -- 36.5/38.8 MB 4.1 MB/s eta 0:00:01\n",
      "   ------------------------------------- -- 36.7/38.8 MB 4.0 MB/s eta 0:00:01\n",
      "   -------------------------------------- - 36.9/38.8 MB 4.0 MB/s eta 0:00:01\n",
      "   -------------------------------------- - 37.2/38.8 MB 4.0 MB/s eta 0:00:01\n",
      "   -------------------------------------- - 37.4/38.8 MB 4.0 MB/s eta 0:00:01\n",
      "   -------------------------------------- - 37.6/38.8 MB 4.0 MB/s eta 0:00:01\n",
      "   -------------------------------------- - 37.7/38.8 MB 4.0 MB/s eta 0:00:01\n",
      "   ---------------------------------------  37.9/38.8 MB 4.0 MB/s eta 0:00:01\n",
      "   ---------------------------------------  37.9/38.8 MB 3.9 MB/s eta 0:00:01\n",
      "   ---------------------------------------  38.1/38.8 MB 3.9 MB/s eta 0:00:01\n",
      "   ---------------------------------------  38.3/38.8 MB 3.9 MB/s eta 0:00:01\n",
      "   ---------------------------------------  38.5/38.8 MB 3.9 MB/s eta 0:00:01\n",
      "   ---------------------------------------  38.6/38.8 MB 3.9 MB/s eta 0:00:01\n",
      "   ---------------------------------------  38.7/38.8 MB 3.8 MB/s eta 0:00:01\n",
      "   ---------------------------------------  38.7/38.8 MB 3.8 MB/s eta 0:00:01\n",
      "   ---------------------------------------- 38.8/38.8 MB 3.7 MB/s eta 0:00:00\n",
      "Downloading filetype-1.2.0-py2.py3-none-any.whl (19 kB)\n",
      "Downloading python_dotenv-1.0.1-py3-none-any.whl (19 kB)\n",
      "Downloading requests_toolbelt-1.0.0-py2.py3-none-any.whl (54 kB)\n",
      "   ---------------------------------------- 0.0/54.5 kB ? eta -:--:--\n",
      "   ---------------------------------------- 54.5/54.5 kB ? eta 0:00:00\n",
      "Installing collected packages: filetype, python-dotenv, opencv-python-headless, idna, requests-toolbelt, roboflow\n",
      "  Attempting uninstall: idna\n",
      "    Found existing installation: idna 3.10\n",
      "    Uninstalling idna-3.10:\n",
      "      Successfully uninstalled idna-3.10\n",
      "Successfully installed filetype-1.2.0 idna-3.7 opencv-python-headless-4.10.0.84 python-dotenv-1.0.1 requests-toolbelt-1.0.0 roboflow-1.1.49\n"
     ]
    }
   ],
   "source": [
    "!pip install ultralytics\n",
    "!pip install roboflow"
   ]
  },
  {
   "cell_type": "code",
   "execution_count": 2,
   "metadata": {},
   "outputs": [
    {
     "name": "stdout",
     "output_type": "stream",
     "text": [
      "loading Roboflow workspace...\n",
      "loading Roboflow project...\n"
     ]
    },
    {
     "name": "stderr",
     "output_type": "stream",
     "text": [
      "Downloading Dataset Version Zip in football-players-detection-1 to yolov5pytorch:: 100%|██████████| 148663/148663 [00:40<00:00, 3690.47it/s]"
     ]
    },
    {
     "name": "stdout",
     "output_type": "stream",
     "text": [
      "\n"
     ]
    },
    {
     "name": "stderr",
     "output_type": "stream",
     "text": [
      "\n",
      "Extracting Dataset Version Zip to football-players-detection-1 in yolov5pytorch:: 100%|██████████| 1338/1338 [00:00<00:00, 2792.01it/s]\n"
     ]
    }
   ],
   "source": [
    "from roboflow import Roboflow\n",
    "rf = Roboflow(api_key=\"SbW9oBaLZumI1EdF6yfA\")\n",
    "project = rf.workspace(\"roboflow-jvuqo\").project(\"football-players-detection-3zvbc\")\n",
    "version = project.version(1)\n",
    "dataset = version.download(\"yolov5\")\n",
    "                "
   ]
  },
  {
   "cell_type": "markdown",
   "metadata": {},
   "source": [
    "# Get DataSet"
   ]
  },
  {
   "cell_type": "code",
   "execution_count": 5,
   "metadata": {},
   "outputs": [
    {
     "data": {
      "text/plain": [
       "'c:\\\\ai_soccer\\\\training\\\\football-players-detection-1'"
      ]
     },
     "execution_count": 5,
     "metadata": {},
     "output_type": "execute_result"
    }
   ],
   "source": [
    "dataset.location   # tells where the dataset resides in the machine\n"
   ]
  },
  {
   "cell_type": "code",
   "execution_count": 7,
   "metadata": {},
   "outputs": [
    {
     "data": {
      "text/plain": [
       "'football-players-detection-1/football-players-detection-1/valid'"
      ]
     },
     "execution_count": 7,
     "metadata": {},
     "output_type": "execute_result"
    }
   ],
   "source": [
    "import shutil\n",
    "shutil.move('football-players-detection-1/train',\n",
    "            'football-players-detection-1/football-players-detection-1/train'\n",
    "            )\n",
    "\n",
    "shutil.move('football-players-detection-1/test',\n",
    "            'football-players-detection-1/football-players-detection-1/test'\n",
    "            )\n",
    "\n",
    "shutil.move('football-players-detection-1/valid',\n",
    "            'football-players-detection-1/football-players-detection-1/valid'\n",
    "            )\n",
    "\n",
    "# Note the aove code is just a requirement for training and data storage."
   ]
  },
  {
   "cell_type": "markdown",
   "metadata": {},
   "source": [
    "# Training"
   ]
  },
  {
   "cell_type": "code",
   "execution_count": null,
   "metadata": {},
   "outputs": [],
   "source": [
    "!yolo task=detect mode=train model=yolov5m.pt data = {dataset.location}/data.yaml epochs = 100 imgsz = 640"
   ]
  }
 ],
 "metadata": {
  "kernelspec": {
   "display_name": "myenv",
   "language": "python",
   "name": "python3"
  },
  "language_info": {
   "codemirror_mode": {
    "name": "ipython",
    "version": 3
   },
   "file_extension": ".py",
   "mimetype": "text/x-python",
   "name": "python",
   "nbconvert_exporter": "python",
   "pygments_lexer": "ipython3",
   "version": "3.11.5"
  }
 },
 "nbformat": 4,
 "nbformat_minor": 2
}
